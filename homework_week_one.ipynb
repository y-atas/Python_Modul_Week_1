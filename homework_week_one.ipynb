{
 "cells": [
  {
   "cell_type": "code",
   "execution_count": 13,
   "metadata": {},
   "outputs": [
    {
     "name": "stdout",
     "output_type": "stream",
     "text": [
      "1,2,3,4,5,6,7,8,9,10,"
     ]
    }
   ],
   "source": [
    "#Question_1 :Write a Python code that prints numbers from 1 to 10 on the screen.\n",
    "\"\"\"\n",
    "\n",
    "for i in range(1,11):\n",
    "    print(i,end=\",\")\n",
    "\n",
    "\"\"\"\n"
   ]
  },
  {
   "cell_type": "code",
   "execution_count": 19,
   "metadata": {},
   "outputs": [
    {
     "name": "stdout",
     "output_type": "stream",
     "text": [
      "12  10  8  6  4  2  "
     ]
    }
   ],
   "source": [
    "#Question_2 : Take a number input from the user and write a Python program that prints even numbers up to this number on the screen.\n",
    "#  Do this first with 'for' and then with 'while' loops.\n",
    "\n",
    "#take_nummer = int(input(\"Enter your desired nummer : \"))\n",
    "\n",
    "\"\"\"\n",
    "# for i in range(take_nummer):\n",
    "#     if i % 2 == 0:\n",
    "#         print(i, end=\" , \")\n",
    "\n",
    "#____________________________\n",
    "\n",
    "# while take_nummer != 0:\n",
    "#     if take_nummer % 2 == 0 :\n",
    "#         print(take_nummer ,end = \"  \")\n",
    "#     take_nummer -= 1\n",
    "\"\"\""
   ]
  },
  {
   "cell_type": "code",
   "execution_count": 21,
   "metadata": {},
   "outputs": [
    {
     "name": "stdout",
     "output_type": "stream",
     "text": [
      "2 3 4 5 6 7 8 9 10 11 12 13 14 15 16 17 18 19 20 21 22 23 24 25 26 27 28 29 30 31 32 33 34 35 36 37 38 39 40 41 42 43 44 45 46 47 48 49 50 51 52 53 54 55 "
     ]
    }
   ],
   "source": [
    "#Question_3 :Write a Python code that receives a start and end value from the user and prints all the numbers \n",
    "# between these values ​​(including the end value) on the screen.\n",
    "\"\"\"\n",
    "start_nummer = int(input(\"Enter your  start nummer : \"))\n",
    "and_nummer = int(input(\"Enter your  and nummer : \"))\n",
    "for i in range(start_nummer,and_nummer,1):\n",
    "    print(i, end=\" \")\n",
    "\"\"\""
   ]
  },
  {
   "cell_type": "code",
   "execution_count": 29,
   "metadata": {},
   "outputs": [
    {
     "name": "stdout",
     "output_type": "stream",
     "text": [
      "This is an even 4 number\n"
     ]
    }
   ],
   "source": [
    "#Question 4: Get a number from the user and write a Python code that prints whether this number is odd or even.\n",
    "\n",
    "\"\"\"\n",
    "take_nummer = int(input(\"Enter your desired nummer : \"))\n",
    "if take_nummer % 2 == 0:\n",
    "    print(F\"This is an even {take_nummer} number\")\n",
    "else :\n",
    "    print(\"This is an odd {}  number\".format(take_nummer))\n",
    "\"\"\""
   ]
  },
  {
   "cell_type": "code",
   "execution_count": 63,
   "metadata": {},
   "outputs": [
    {
     "name": "stdout",
     "output_type": "stream",
     "text": [
      "The factorial  of 5 is  = 120 \n"
     ]
    }
   ],
   "source": [
    "#Question 5: Write a Python program that takes a positive integer input from the user and calculates its factorial.\n",
    "#  Factorial is the product of all positive integers between a number itself and 1.\n",
    "#  For example: if the user entered 5, the program should give the following output: Enter a number from the user: 5 Factorial: 120\n",
    "\n",
    "\"\"\"\n",
    "fact = int(input(\"Enter your desired number : \"))\n",
    "\n",
    "result = 1\n",
    "i = 1\n",
    "while i != fact:\n",
    "\n",
    "    i+=1; \n",
    "    result = result * i\n",
    "\n",
    "print(f\"The factorial  of {fact} is  = {result} \")\n",
    "\n",
    "\"\"\"\n",
    "    \n",
    "\n",
    "  \n",
    "    \n",
    "\n",
    "\n"
   ]
  },
  {
   "cell_type": "code",
   "execution_count": 101,
   "metadata": {},
   "outputs": [
    {
     "name": "stdout",
     "output_type": "stream",
     "text": [
      " ' 44 ' this number is NOT prime. \n"
     ]
    }
   ],
   "source": [
    "#Question 6: Write a Python code that receives a number from the user and checks whether this number is prime.\n",
    "\n",
    "\"\"\"\n",
    "n = int(input(\"Enter your desired number : \"))\n",
    "i= 0\n",
    "count = 0\n",
    "\n",
    "while i != n :\n",
    "   \n",
    "    i+=1\n",
    "    if n % (i + 1) == 0:\n",
    "        count += 1\n",
    "\n",
    "if count == 1 :\n",
    "    print (F\" ' {n} ' this number is prime. \")\n",
    "\n",
    "else :\n",
    "    print (F\" ' {n} ' this number is NOT prime. \")\n",
    "    \n",
    "\"\"\"\n",
    "      \n",
    "            \n"
   ]
  },
  {
   "cell_type": "code",
   "execution_count": 105,
   "metadata": {},
   "outputs": [
    {
     "name": "stdout",
     "output_type": "stream",
     "text": [
      "[0, 1, 1, 2, 3, 5, 8, 13, 21, 34, 55, 89, 144, 233, 377, 610, 987, 1597, 2584, 4181, 6765, 10946, 17711, 28657, 46368, 75025, 121393, 196418, 317811, 514229, 832040, 1346269, 2178309, 3524578, 5702887, 9227465, 14930352, 24157817, 39088169, 63245986, 102334155, 165580141, 267914296, 433494437, 701408733, 1134903170, 1836311903, 2971215073, 4807526976, 7778742049, 12586269025, 20365011074, 32951280099, 53316291173, 86267571272, 139583862445, 225851433717, 365435296162, 591286729879, 956722026041, 1548008755920, 2504730781961, 4052739537881, 6557470319842, 10610209857723, 17167680177565, 27777890035288, 44945570212853, 72723460248141, 117669030460994, 190392490709135, 308061521170129, 498454011879264, 806515533049393, 1304969544928657, 2111485077978050, 3416454622906707, 5527939700884757, 8944394323791464, 14472334024676221, 23416728348467685, 37889062373143906, 61305790721611591, 99194853094755497, 160500643816367088, 259695496911122585, 420196140727489673, 679891637638612258, 1100087778366101931, 1779979416004714189, 2880067194370816120, 4660046610375530309, 7540113804746346429, 12200160415121876738, 19740274219868223167, 31940434634990099905, 51680708854858323072, 83621143489848422977, 135301852344706746049, 218922995834555169026, 99]\n"
     ]
    }
   ],
   "source": [
    "#Question 7: How to create a loop that calculates the Fibonacci sequence and returns the result as a list containing numbers up to a certain limit?\n",
    "\"\"\"\n",
    "my_fib = [0]\n",
    "i =0\n",
    "series = 0\n",
    "\n",
    "while i != 100:\n",
    "    \n",
    "    my_fib.append(series)\n",
    "    my_fib[i] = my_fib[i-1] + my_fib[i-2]\n",
    "    i+=1\n",
    "    series += 1\n",
    "else :\n",
    "    print (my_fib)\n",
    "\n",
    "\"\"\"\n"
   ]
  },
  {
   "cell_type": "code",
   "execution_count": 118,
   "metadata": {},
   "outputs": [
    {
     "name": "stdout",
     "output_type": "stream",
     "text": [
      "sata pukay"
     ]
    }
   ],
   "source": [
    "#Question 8: Write a Python code that takes a word from the user and prints the reverse of this word on the screen.\n",
    "\"\"\"\n",
    "\n",
    "my_string = \"Yakup Atas\"\n",
    "rev_str = \"\"\n",
    "for i in my_string[-1::-1]:\n",
    "    \n",
    "    if i.isupper():\n",
    "        print(i.lower(), end = \"\")\n",
    "        continue\n",
    "    \n",
    "    print(i, end = \"\")\n",
    " \n",
    "\"\"\""
   ]
  },
  {
   "cell_type": "code",
   "execution_count": 132,
   "metadata": {},
   "outputs": [
    {
     "name": "stdout",
     "output_type": "stream",
     "text": [
      "tenet\n",
      "tenet is a palindrome \n"
     ]
    }
   ],
   "source": [
    "#Question 9: How to create a combination of loop and conditional statement \n",
    "#that takes a word input from the user and checks whether that word is a palindrome (the same when read backwards)?\n",
    "\"\"\"\n",
    "word = str(input(\"Enter jour word  : \"))\n",
    "conversely= word[::-1]\n",
    "if word == conversely :\n",
    "    print(F\"{word} is a palindrome \")\n",
    "else :\n",
    "    print(F\"{word} is a NOT palindrome \")\n",
    "\n",
    "\"\"\"\n",
    "# word = str(input(\"Enter jour word  : \"))\n",
    "# rev = \"\".join(reversed(word))\n",
    "# print(rev)\n",
    "# if rev == word :\n",
    "#     print(F\"{word} is a palindrome \")\n",
    "# else :\n",
    "#     print(F\"{word} is a NOT palindrome \")\n"
   ]
  },
  {
   "cell_type": "code",
   "execution_count": 10,
   "metadata": {},
   "outputs": [
    {
     "name": "stdout",
     "output_type": "stream",
     "text": [
      "20.936639118457304 \n",
      "\n",
      " it is weak\n"
     ]
    }
   ],
   "source": [
    "#Question 10 :Question 10: Write the code that calculates the person's weight index and returns the result as underweight,\n",
    "#  overweight or overweight according to the index value. (You can look on the internet for the weight index calculation) \n",
    "# To do this, ask the user for their weight and height measurements. weight index If it is below 25, it is weak, Between 25-30 is normal, \n",
    "# If you are over 30-40, you are overweight. If you are over 40, you are overweight.\n",
    "#weigh / (height)kracht 2\n",
    "\"\"\"\n",
    "weight =int(input(\"Enter jour weight :\"))\n",
    "height =float(input(\"Enter jour height  :\"))\n",
    "weight_index= weight / (height)**2\n",
    "\n",
    "print(weight_index,\"\\n\")\n",
    "if weight_index < 25:\n",
    "    print(\" it is weak\")\n",
    "elif 25< weight_index < 30:\n",
    "    print(\"It is normal\")\n",
    "elif 30< weight_index < 40: \n",
    "    print(\"You are overweight\")\n",
    "else :\n",
    "    print(\"You are overweight\")\n",
    "\n",
    " \"\"\"\n",
    "\n",
    "\n"
   ]
  },
  {
   "cell_type": "code",
   "execution_count": 15,
   "metadata": {},
   "outputs": [
    {
     "name": "stdout",
     "output_type": "stream",
     "text": [
      "90 78 43\n",
      "the largest of three numbers :  78\n"
     ]
    }
   ],
   "source": [
    "#Question 11: How to write a Python program that finds the largest of three numbers entered by a user?\n",
    "\n",
    "\"\"\"\n",
    "number_1 =int(input(\"Enter jour 1e nummber  :\"))\n",
    "number_2 =int(input(\"Enter jour 2e nummber  :\"))\n",
    "number_3 =int(input(\"Enter jour 3e nummber  :\"))\n",
    "print(number_1,number_2, number_3,end=\"\\n\")\n",
    "if number_2 <number_1<number_3 or number_2 > number_1 >number_3 :\n",
    "    print(\"the largest of three numbers : \",number_1)\n",
    "elif number_1 <number_2<number_3 or number_1 > number_2 >number_3 :\n",
    "    print(\"the largest of three numbers : \",number_2)\n",
    "elif number_2 <number_3<number_1 or number_2 > number_3 >number_1 :\n",
    "    print(\"the largest of three numbers : \",number_3)\n",
    "\n",
    "\"\"\""
   ]
  },
  {
   "cell_type": "code",
   "execution_count": 19,
   "metadata": {},
   "outputs": [
    {
     "name": "stdout",
     "output_type": "stream",
     "text": [
      "SUCCESSFUL  JOUR AVAREGE IS :  83.0\n"
     ]
    }
   ],
   "source": [
    "#Question 12: Get Midterm and Final grades from a student for any course. \n",
    "#The sum of 40% of the midterm exam grade and 60% of the final grade will give the year-end average.\n",
    "#  If the average is below 50, \"FAILED\" will appear on the screen, and if it is 50 or above,\n",
    "#  \"SUCCESSFUL\" will be displayed on the screen. This printing process is 4 lessons. \n",
    "# and the lessons will be written one after the other.\n",
    "\"\"\"\n",
    "fnl_grads = int(input(\"Enter jour final grades :\"))\n",
    "mdr_grads = int(input(\"Enter jour midterm grades :\"))\n",
    "avarage = (fnl_grads +mdr_grads)/2 \n",
    "\n",
    "if avarage >= 50 :\n",
    "    print(\"SUCCESSFUL\" , \" JOUR AVAREGE IS : \", avarage)\n",
    "else :\n",
    "    print(\"FAILED\" \" JOUR AVAREGE IS : \", avarage)\n",
    "    \n",
    "\"\"\""
   ]
  }
 ],
 "metadata": {
  "kernelspec": {
   "display_name": "Python 3",
   "language": "python",
   "name": "python3"
  },
  "language_info": {
   "codemirror_mode": {
    "name": "ipython",
    "version": 3
   },
   "file_extension": ".py",
   "mimetype": "text/x-python",
   "name": "python",
   "nbconvert_exporter": "python",
   "pygments_lexer": "ipython3",
   "version": "3.11.2"
  }
 },
 "nbformat": 4,
 "nbformat_minor": 2
}
